{
 "cells": [
  {
   "cell_type": "code",
   "execution_count": 1,
   "metadata": {},
   "outputs": [],
   "source": [
    "import scanpy as sc\n",
    "import pandas as pd\n",
    "from pydeseq2.dds import DeseqDataSet\n",
    "from pydeseq2.default_inference import DefaultInference\n",
    "from pydeseq2.ds import DeseqStats\n",
    "import seaborn as sns"
   ]
  },
  {
   "cell_type": "code",
   "execution_count": 2,
   "metadata": {},
   "outputs": [],
   "source": [
    "nsclc = sc.read_h5ad('/Users/meenasubramaniam/Downloads/99040b08-7e1a-4d81-911c-4d2fd2335757.h5ad')"
   ]
  },
  {
   "cell_type": "code",
   "execution_count": 3,
   "metadata": {},
   "outputs": [
    {
     "data": {
      "text/plain": [
       "0"
      ]
     },
     "execution_count": 3,
     "metadata": {},
     "output_type": "execute_result"
    }
   ],
   "source": [
    "tumor = nsclc[nsclc.obs['cell_type_major'] == \"Tumor cells\"]\n",
    "nsclc.obs.to_csv('nsclc_covs.csv')\n",
    "\n",
    "\n",
    "# del nsclc\n",
    "# import gc\n",
    "# gc.collect()\n",
    "\n",
    "df = pd.DataFrame(tumor.layers['count'].toarray(), columns= tumor.var['feature_name'].values, index = tumor.obs.index)\n",
    "covs = ['sample', 'disease', 'cell_type_major']\n",
    "df = pd.concat([df, tumor.obs[covs]], ignore_index=True, axis = 1)\n"
   ]
  },
  {
   "cell_type": "code",
   "execution_count": 14,
   "metadata": {},
   "outputs": [],
   "source": [
    "cell_sums = df.groupby(covs,observed = True).sum()\n",
    "cell_sums.to_csv('cell_sums_tumor.csv')"
   ]
  },
  {
   "cell_type": "code",
   "execution_count": 25,
   "metadata": {},
   "outputs": [],
   "source": [
    "counts = cell_sums.reset_index(drop=True)\n",
    "mdata = cell_sums.reset_index()[covs]"
   ]
  },
  {
   "cell_type": "code",
   "execution_count": 40,
   "metadata": {},
   "outputs": [
    {
     "name": "stderr",
     "output_type": "stream",
     "text": [
      "/Users/meenasubramaniam/Documents/cor_test/.venv/lib/python3.11/site-packages/anndata/_core/aligned_df.py:67: ImplicitModificationWarning: Transforming to str index.\n",
      "  warnings.warn(\"Transforming to str index.\", ImplicitModificationWarning)\n",
      "Fitting size factors...\n",
      "... done in 0.20 seconds.\n",
      "\n",
      "Fitting dispersions...\n",
      "... done in 10.32 seconds.\n",
      "\n",
      "Fitting dispersion trend curve...\n",
      "... done in 0.40 seconds.\n",
      "\n",
      "Fitting MAP dispersions...\n",
      "... done in 8.41 seconds.\n",
      "\n",
      "Fitting LFCs...\n",
      "... done in 7.77 seconds.\n",
      "\n",
      "Calculating cook's distance...\n",
      "... done in 0.94 seconds.\n",
      "\n",
      "Replacing 3835 outlier genes.\n",
      "\n",
      "Fitting dispersions...\n",
      "... done in 2.09 seconds.\n",
      "\n",
      "Fitting MAP dispersions...\n",
      "... done in 1.70 seconds.\n",
      "\n",
      "Fitting LFCs...\n",
      "... done in 1.90 seconds.\n",
      "\n"
     ]
    }
   ],
   "source": [
    "inference = DefaultInference(n_cpus = 8)\n",
    "dds = DeseqDataSet(\n",
    "    counts=counts.astype(int)[counts.sum(axis =1) > 5000],\n",
    "    metadata=mdata[counts.sum(axis =1) > 5000],\n",
    "    design_factors='disease',\n",
    "    refit_cooks=True,\n",
    "    inference=inference,\n",
    "    )\n",
    "dds.deseq2()"
   ]
  },
  {
   "cell_type": "code",
   "execution_count": 46,
   "metadata": {},
   "outputs": [],
   "source": [
    "norm = dds.layers['normed_counts']"
   ]
  },
  {
   "cell_type": "code",
   "execution_count": 68,
   "metadata": {},
   "outputs": [],
   "source": [
    "mat = pd.DataFrame(norm, index = dds.obs['sample'].values, columns = dds.var_names)"
   ]
  },
  {
   "cell_type": "code",
   "execution_count": 54,
   "metadata": {},
   "outputs": [
    {
     "name": "stderr",
     "output_type": "stream",
     "text": [
      "/var/folders/ml/kw8m8dss5zl1sv80nt5j4_7r0000gp/T/ipykernel_15790/944750917.py:1: DtypeWarning: Columns (3,9,19,20,21,22,23,24,25,26) have mixed types. Specify dtype option on import or set low_memory=False.\n",
      "  tumor = pd.read_csv('nsclc_covs.csv', index_col = 0)\n"
     ]
    }
   ],
   "source": [
    "tumor = pd.read_csv('nsclc_covs.csv', index_col = 0)"
   ]
  },
  {
   "cell_type": "code",
   "execution_count": 63,
   "metadata": {},
   "outputs": [],
   "source": [
    "ct_props = nsclc.obs.groupby(['sample', 'disease'])['cell_type_major'].value_counts(normalize = True).unstack(fill_value=0).reset_index()"
   ]
  },
  {
   "cell_type": "code",
   "execution_count": 77,
   "metadata": {},
   "outputs": [],
   "source": [
    "mat_full = mat.merge(ct_props, how = 'left', left_index = True, right_on = 'sample')"
   ]
  },
  {
   "cell_type": "code",
   "execution_count": 84,
   "metadata": {},
   "outputs": [],
   "source": [
    "diseases = ['normal', 'lung adenocarcinoma']\n",
    "mat_use = mat_full.query(\"disease in @diseases\" )\n",
    "gene_mat = mat_use[mat.columns]\n",
    "ct_prop = pd.Series(mat_use['T cell CD8'])\n",
    "covariate = mat_use['disease'].replace({'normal':0, 'lung adenocarcinoma': 1})\n"
   ]
  },
  {
   "cell_type": "code",
   "execution_count": 93,
   "metadata": {},
   "outputs": [],
   "source": [
    "from cor_test import *"
   ]
  },
  {
   "cell_type": "code",
   "execution_count": 118,
   "metadata": {},
   "outputs": [],
   "source": [
    "ct_prop_scaled = center_scale(ct_prop, covariate)"
   ]
  },
  {
   "cell_type": "code",
   "execution_count": null,
   "metadata": {},
   "outputs": [],
   "source": [
    "res =cor_test_all(gene_mat, ct_prop = ct_prop_scaled, covariate = covariate)"
   ]
  },
  {
   "cell_type": "code",
   "execution_count": 136,
   "metadata": {},
   "outputs": [
    {
     "data": {
      "text/html": [
       "<div>\n",
       "<style scoped>\n",
       "    .dataframe tbody tr th:only-of-type {\n",
       "        vertical-align: middle;\n",
       "    }\n",
       "\n",
       "    .dataframe tbody tr th {\n",
       "        vertical-align: top;\n",
       "    }\n",
       "\n",
       "    .dataframe thead th {\n",
       "        text-align: right;\n",
       "    }\n",
       "</style>\n",
       "<table border=\"1\" class=\"dataframe\">\n",
       "  <thead>\n",
       "    <tr style=\"text-align: right;\">\n",
       "      <th></th>\n",
       "      <th>Coef.</th>\n",
       "      <th>Std.Err.</th>\n",
       "      <th>t</th>\n",
       "      <th>P&gt;|t|</th>\n",
       "      <th>[0.025</th>\n",
       "      <th>0.975]</th>\n",
       "    </tr>\n",
       "  </thead>\n",
       "  <tbody>\n",
       "    <tr>\n",
       "      <th>WTAP</th>\n",
       "      <td>0.190524</td>\n",
       "      <td>0.050782</td>\n",
       "      <td>3.751820</td>\n",
       "      <td>0.000211</td>\n",
       "      <td>0.090585</td>\n",
       "      <td>0.290464</td>\n",
       "    </tr>\n",
       "    <tr>\n",
       "      <th>ACLY</th>\n",
       "      <td>0.272679</td>\n",
       "      <td>0.073110</td>\n",
       "      <td>3.729696</td>\n",
       "      <td>0.000230</td>\n",
       "      <td>0.128797</td>\n",
       "      <td>0.416560</td>\n",
       "    </tr>\n",
       "    <tr>\n",
       "      <th>SLC38A2</th>\n",
       "      <td>0.188583</td>\n",
       "      <td>0.052036</td>\n",
       "      <td>3.624086</td>\n",
       "      <td>0.000341</td>\n",
       "      <td>0.086175</td>\n",
       "      <td>0.290990</td>\n",
       "    </tr>\n",
       "    <tr>\n",
       "      <th>MTPAP</th>\n",
       "      <td>0.159783</td>\n",
       "      <td>0.044215</td>\n",
       "      <td>3.613763</td>\n",
       "      <td>0.000355</td>\n",
       "      <td>0.072767</td>\n",
       "      <td>0.246799</td>\n",
       "    </tr>\n",
       "    <tr>\n",
       "      <th>MAP3K1</th>\n",
       "      <td>0.158648</td>\n",
       "      <td>0.044839</td>\n",
       "      <td>3.538187</td>\n",
       "      <td>0.000468</td>\n",
       "      <td>0.070405</td>\n",
       "      <td>0.246892</td>\n",
       "    </tr>\n",
       "    <tr>\n",
       "      <th>...</th>\n",
       "      <td>...</td>\n",
       "      <td>...</td>\n",
       "      <td>...</td>\n",
       "      <td>...</td>\n",
       "      <td>...</td>\n",
       "      <td>...</td>\n",
       "    </tr>\n",
       "    <tr>\n",
       "      <th>ESYT3</th>\n",
       "      <td>-0.000075</td>\n",
       "      <td>0.137801</td>\n",
       "      <td>-0.000542</td>\n",
       "      <td>0.999568</td>\n",
       "      <td>-0.271269</td>\n",
       "      <td>0.271120</td>\n",
       "    </tr>\n",
       "    <tr>\n",
       "      <th>TOR1B</th>\n",
       "      <td>-0.000024</td>\n",
       "      <td>0.126594</td>\n",
       "      <td>-0.000192</td>\n",
       "      <td>0.999847</td>\n",
       "      <td>-0.249163</td>\n",
       "      <td>0.249114</td>\n",
       "    </tr>\n",
       "    <tr>\n",
       "      <th>YWHAH</th>\n",
       "      <td>-0.000018</td>\n",
       "      <td>0.126165</td>\n",
       "      <td>-0.000140</td>\n",
       "      <td>0.999888</td>\n",
       "      <td>-0.248311</td>\n",
       "      <td>0.248276</td>\n",
       "    </tr>\n",
       "    <tr>\n",
       "      <th>TRAV14DV4</th>\n",
       "      <td>0.000000</td>\n",
       "      <td>0.000000</td>\n",
       "      <td>NaN</td>\n",
       "      <td>NaN</td>\n",
       "      <td>0.000000</td>\n",
       "      <td>0.000000</td>\n",
       "    </tr>\n",
       "    <tr>\n",
       "      <th>TRAV30</th>\n",
       "      <td>0.000000</td>\n",
       "      <td>0.000000</td>\n",
       "      <td>NaN</td>\n",
       "      <td>NaN</td>\n",
       "      <td>0.000000</td>\n",
       "      <td>0.000000</td>\n",
       "    </tr>\n",
       "  </tbody>\n",
       "</table>\n",
       "<p>17797 rows × 6 columns</p>\n",
       "</div>"
      ],
      "text/plain": [
       "              Coef.  Std.Err.         t     P>|t|    [0.025    0.975]\n",
       "WTAP       0.190524  0.050782  3.751820  0.000211  0.090585  0.290464\n",
       "ACLY       0.272679  0.073110  3.729696  0.000230  0.128797  0.416560\n",
       "SLC38A2    0.188583  0.052036  3.624086  0.000341  0.086175  0.290990\n",
       "MTPAP      0.159783  0.044215  3.613763  0.000355  0.072767  0.246799\n",
       "MAP3K1     0.158648  0.044839  3.538187  0.000468  0.070405  0.246892\n",
       "...             ...       ...       ...       ...       ...       ...\n",
       "ESYT3     -0.000075  0.137801 -0.000542  0.999568 -0.271269  0.271120\n",
       "TOR1B     -0.000024  0.126594 -0.000192  0.999847 -0.249163  0.249114\n",
       "YWHAH     -0.000018  0.126165 -0.000140  0.999888 -0.248311  0.248276\n",
       "TRAV14DV4  0.000000  0.000000       NaN       NaN  0.000000  0.000000\n",
       "TRAV30     0.000000  0.000000       NaN       NaN  0.000000  0.000000\n",
       "\n",
       "[17797 rows x 6 columns]"
      ]
     },
     "execution_count": 136,
     "metadata": {},
     "output_type": "execute_result"
    }
   ],
   "source": [
    "res.sort_values('P>|t|')"
   ]
  },
  {
   "cell_type": "code",
   "execution_count": 143,
   "metadata": {},
   "outputs": [
    {
     "data": {
      "text/plain": [
       "[(0.0, 1500.0)]"
      ]
     },
     "execution_count": 143,
     "metadata": {},
     "output_type": "execute_result"
    },
    {
     "data": {
      "image/png": "[encoded data removed]",
      "text/plain": [
       "<Figure size 640x480 with 1 Axes>"
      ]
     },
     "metadata": {},
     "output_type": "display_data"
    }
   ],
   "source": [
    "g = sns.scatterplot(mat_use, x = 'WTAP', y = 'T cell CD8', hue = 'disease')\n",
    "g.set(xlim=(0, 1500))"
   ]
  },
  {
   "cell_type": "code",
   "execution_count": null,
   "metadata": {},
   "outputs": [],
   "source": []
  }
 ],
 "metadata": {
  "kernelspec": {
   "display_name": ".venv",
   "language": "python",
   "name": "python3"
  },
  "language_info": {
   "codemirror_mode": {
    "name": "ipython",
    "version": 3
   },
   "file_extension": ".py",
   "mimetype": "text/x-python",
   "name": "python",
   "nbconvert_exporter": "python",
   "pygments_lexer": "ipython3",
   "version": "3.11.9"
  }
 },
 "nbformat": 4,
 "nbformat_minor": 2
}
